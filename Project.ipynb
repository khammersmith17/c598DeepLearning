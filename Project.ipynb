{
  "nbformat": 4,
  "nbformat_minor": 0,
  "metadata": {
    "colab": {
      "provenance": [],
      "gpuType": "T4",
      "authorship_tag": "ABX9TyMt/vo9P6IGDrh3M/Pz25sZ",
      "include_colab_link": true
    },
    "kernelspec": {
      "name": "python3",
      "display_name": "Python 3"
    },
    "language_info": {
      "name": "python"
    },
    "accelerator": "GPU"
  },
  "cells": [
    {
      "cell_type": "markdown",
      "metadata": {
        "id": "view-in-github",
        "colab_type": "text"
      },
      "source": [
        "<a href=\"https://colab.research.google.com/github/khammersmith17/c598DeepLearning/blob/main/Project.ipynb\" target=\"_parent\"><img src=\"https://colab.research.google.com/assets/colab-badge.svg\" alt=\"Open In Colab\"/></a>"
      ]
    },
    {
      "cell_type": "markdown",
      "source": [],
      "metadata": {
        "id": "lJHtbRaJzUPK"
      }
    },
    {
      "cell_type": "markdown",
      "source": [
        "Section 0:\n",
        "1. Fixing package depedency issue in the runtime\n",
        "2. Printing all package versions in the runtime"
      ],
      "metadata": {
        "id": "ph5vUrAUzW3X"
      }
    },
    {
      "cell_type": "code",
      "source": [
        "%%capture\n",
        "!pip install sympy==1.12.0"
      ],
      "metadata": {
        "id": "B_T_pJpKwrdQ"
      },
      "execution_count": null,
      "outputs": []
    },
    {
      "cell_type": "code",
      "source": [
        "import numpy as np\n",
        "import pandas as pd\n",
        "import torch\n",
        "import torch.nn as nn\n",
        "import torch.optim as optim\n",
        "from torch.utils.data import Dataset, DataLoader\n",
        "from torchvision import transforms, models\n",
        "import os\n",
        "from PIL import Image\n",
        "from sklearn.metrics import roc_auc_score\n",
        "import torch.nn.functional as F\n",
        "import torchvision\n",
        "import sklearn\n",
        "import matplotlib.pyplot as plt\n",
        "import seaborn as sns\n",
        "import matplotlib\n",
        "import json\n",
        "from time import perf_counter"
      ],
      "metadata": {
        "id": "y8avymBYtMov"
      },
      "execution_count": null,
      "outputs": []
    },
    {
      "cell_type": "code",
      "source": [
        "print(f\"numpy version: {np.__version__}\")\n",
        "print(f\"pandas version: {pd.__version__}\")\n",
        "print(f\"torch version: {torch.__version__}\")\n",
        "print(f\"torchvision version: {torchvision.__version__}\")\n",
        "print(f\"PIL version: {Image.__version__}\")\n",
        "print(f\"sklearn version: {sklearn.__version__}\")\n",
        "print(f\"seaborn version: {sns.__version__}\")\n",
        "print(f\"matplotlib version: {matplotlib.__version__}\")"
      ],
      "metadata": {
        "colab": {
          "base_uri": "https://localhost:8080/"
        },
        "id": "F0_2sxSFviXP",
        "outputId": "b0107d00-8a97-42ee-b334-1b5c28adb075"
      },
      "execution_count": null,
      "outputs": [
        {
          "output_type": "stream",
          "name": "stdout",
          "text": [
            "numpy version: 2.0.2\n",
            "pandas version: 2.2.2\n",
            "torch version: 2.6.0+cu124\n",
            "torchvision version: 0.21.0+cu124\n",
            "PIL version: 11.1.0\n",
            "sklearn version: 1.6.1\n",
            "seaborn version: 0.13.2\n",
            "matplotlib version: 3.10.0\n"
          ]
        }
      ]
    },
    {
      "cell_type": "code",
      "execution_count": null,
      "metadata": {
        "id": "N-iZV82PLSVy"
      },
      "outputs": [],
      "source": [
        "# Load MIMIC-CXR image metadata and split info\n",
        "metadata = pd.read_csv(\"mimic-cxr-2.0.0-metadata.csv.gz\")\n",
        "split = pd.read_csv(\"mimic-cxr-2.0.0-split.csv.gz\")\n",
        "\n",
        "# Load MIMIC-IV patient and admission data\n",
        "patients = pd.read_csv(\"patients.csv\")\n",
        "admissions = pd.read_csv(\"admissions.csv\")\n",
        "\n",
        "# Use anchor_age as age and ethnicity as race\n",
        "# Use first admission per patient to get the ethnicity\n",
        "first_adm = admissions.sort_values(\"admittime\").drop_duplicates(\"subject_id\", keep=\"first\")"
      ]
    },
    {
      "cell_type": "code",
      "source": [
        "demo = pd.merge(\n",
        "    patients[[\"subject_id\", \"gender\", \"anchor_age\"]],\n",
        "    first_adm[[\"subject_id\", \"ethnicity\"]],\n",
        "    on=\"subject_id\", how=\"left\"\n",
        ")\n",
        "\n",
        "# Rename fields for consistency\n",
        "demo = demo.rename(columns={\n",
        "    \"gender\": \"sex\",\n",
        "    \"anchor_age\": \"age\",\n",
        "    \"ethnicity\": \"race\"\n",
        "})\n",
        "\n",
        "# Merge demographic info with image metadata\n",
        "meta_demo = pd.merge(metadata, demo, on=\"subject_id\", how=\"left\")\n",
        "\n",
        "# Merge with train/val/test split info\n",
        "meta_all = pd.merge(meta_demo, split, on=[\"subject_id\", \"study_id\", \"dicom_id\"], how=\"left\")\n",
        "\n",
        "# Generate CheXpert-style image path\n",
        "meta_all[\"path\"] = meta_all.apply(\n",
        "    lambda row: f\"p{str(row.subject_id)[:2]}/p{row.subject_id}/s{row.study_id}/{row.dicom_id}.jpg\", axis=1\n",
        ")\n",
        "\n",
        "final_df = meta_all[[\"path\", \"subject_id\", \"study_id\", \"sex\", \"age\", \"race\", \"split\"]]\n",
        "\n",
        "# persisting csv\n",
        "final_df.to_csv(\"mimic_metadata.csv\", index=False)"
      ],
      "metadata": {
        "id": "l5Cv14QN2Lkl"
      },
      "execution_count": null,
      "outputs": []
    },
    {
      "cell_type": "markdown",
      "source": [
        "Here is where we will actually generate the synthetic CheXpert dataset."
      ],
      "metadata": {
        "id": "acZKftCV2khC"
      }
    },
    {
      "cell_type": "code",
      "source": [
        "df = pd.read_csv(\"mimic_metadata.csv\")\n",
        "\n",
        "# Step 1: Sample 20% as synthetic CheXpert dataset\n",
        "chex_synth = df.sample(frac=0.2, random_state=42).copy()\n",
        "\n",
        "# Step 2: Assign labels using CheXpert-like prevalence\n",
        "label_prevalence = {\n",
        "    \"No Finding\": 0.10,\n",
        "    \"Fracture\": 0.04,\n",
        "    \"Pneumothorax\": 0.09\n",
        "}\n",
        "\n",
        "for label, p in label_prevalence.items():\n",
        "    chex_synth[label] = np.random.binomial(n=1, p=p, size=len(chex_synth))\n",
        "\n",
        "# Step 3: Inject uncertainty (15% chance of converting 1 or 0 to 0.5)\n",
        "def add_uncertainty(col):\n",
        "    uncertain = np.random.rand(len(col)) < 0.15\n",
        "    col[uncertain] = 0.5\n",
        "    return col\n",
        "\n",
        "chex_synth[\"No Finding\"] = add_uncertainty(chex_synth[\"No Finding\"].astype(float))\n",
        "chex_synth[\"Fracture\"] = add_uncertainty(chex_synth[\"Fracture\"].astype(float))\n",
        "chex_synth[\"Pneumothorax\"] = add_uncertainty(chex_synth[\"Pneumothorax\"].astype(float))\n",
        "\n",
        "# Step 4: Save CSV\n",
        "chex_synth_out = chex_synth[[\"path\", \"No Finding\", \"Fracture\", \"Pneumothorax\", \"sex\", \"age\", \"race\"]]\n",
        "chex_synth_out.to_csv(\"synthetic_chexpert.csv\", index=False)"
      ],
      "metadata": {
        "id": "6XmDwYzc2EmR"
      },
      "execution_count": null,
      "outputs": []
    },
    {
      "cell_type": "markdown",
      "source": [
        "Using the path in the synthetic CheXpert dataset, create a random greyscale JPG image based on suggestion from LLM for a synthetic MINIC_CXR_JPG dataset."
      ],
      "metadata": {
        "id": "9mYne53xyBaY"
      }
    },
    {
      "cell_type": "code",
      "source": [
        "IMAGE_SIZE = (224, 224)\n",
        "BASE_DIR = \"mimic_images\"\n",
        "chex_synth_out = pd.read_csv(\"synthetic_chexpert.csv\")\n",
        "subset_size = 0.33\n",
        "# using a subset of the dataset due to time limit on runtime, starting with 1/3\n",
        "chex_synth_out_subset = chex_synth_out.iloc[:int(chex_synth_out.shape[0] * subset_size),:]\n",
        "chex_synth_out_subset.to_csv(\"synthetic_chexpert_subset.csv\", index=False, header=True)\n",
        "\n",
        "for _, row in chex_synth_out_subset.iterrows():\n",
        "\n",
        "  # create the dir to match the directory structure of the actual dataset\n",
        "  dir = os.path.join(BASE_DIR, *row.path.split(\"/\")[:-1])\n",
        "  os.makedirs(dir, exist_ok=True)\n",
        "\n",
        "  # a random greyscale image with the same size as what the researchers scale the images to\n",
        "  img_array = np.random.randint(0, 256, size=IMAGE_SIZE, dtype=np.uint8)\n",
        "  img = Image.fromarray(img_array)\n",
        "\n",
        "  img.save(f\"{BASE_DIR}/{row.path}\")"
      ],
      "metadata": {
        "id": "MEM6HySFvwbQ"
      },
      "execution_count": null,
      "outputs": []
    },
    {
      "cell_type": "markdown",
      "source": [
        "Generating some visuals to look across the different demographic axis we have available: gender, race, age"
      ],
      "metadata": {
        "id": "cYNoCvwJufJo"
      }
    },
    {
      "cell_type": "code",
      "source": [
        "# Config\n",
        "CSV_PATH = \"synthetic_chexpert.csv\"\n",
        "OUTPUT_DIR = \"eda_outputs\"\n",
        "LABELS = [\"No Finding\", \"Fracture\", \"Pneumothorax\"]\n",
        "\n",
        "# Load data\n",
        "chex_synth_out = pd.read_csv(CSV_PATH)\n",
        "os.makedirs(OUTPUT_DIR, exist_ok=True)\n",
        "\n",
        "# Label distribution plots\n",
        "for label in LABELS:\n",
        "    plt.figure(figsize=(6,4))\n",
        "    chex_synth_out[label].value_counts().sort_index().plot(kind=\"bar\", color=\"skyblue\")\n",
        "    plt.title(f\"Distribution of {label} Labels\")\n",
        "    plt.xticks([0, 1, 2], ['0 (Negative)', '0.5 (Uncertain)', '1 (Positive)'], rotation=0)\n",
        "    plt.ylabel(\"Count\")\n",
        "    plt.tight_layout()\n",
        "    plt.savefig(f\"{OUTPUT_DIR}/{label}_distribution.png\")\n",
        "    plt.close()\n",
        "\n",
        "# Age group bucketing\n",
        "chex_synth_out[\"age_group\"] = pd.cut(chex_synth_out[\"age\"], bins=[0, 40, 60, 80, 120], labels=[\"<40\", \"40–60\", \"60–80\", \"80+\"])\n",
        "\n",
        "# Mean label prevalence by sex\n",
        "plt.figure(figsize=(8,5))\n",
        "chex_synth_out.groupby(\"sex\")[LABELS].mean().plot(kind=\"bar\")\n",
        "plt.title(\"Average Label Prevalence by Sex\")\n",
        "plt.ylabel(\"Prevalence\")\n",
        "plt.tight_layout()\n",
        "plt.savefig(f\"{OUTPUT_DIR}/prevalence_by_sex.png\")\n",
        "plt.close()\n",
        "\n",
        "# Mean label prevalence by age group\n",
        "plt.figure(figsize=(8,5))\n",
        "chex_synth_out.groupby(\"age_group\")[LABELS].mean().plot(kind=\"bar\")\n",
        "plt.title(\"Average Label Prevalence by Age Group\")\n",
        "plt.ylabel(\"Prevalence\")\n",
        "plt.tight_layout()\n",
        "plt.savefig(f\"{OUTPUT_DIR}/prevalence_by_age.png\")\n",
        "plt.close()\n",
        "\n",
        "# Mean label prevalence by race\n",
        "plt.figure(figsize=(10,5))\n",
        "chex_synth_out.groupby(\"race\")[LABELS].mean().plot(kind=\"bar\")\n",
        "plt.title(\"Average Label Prevalence by Race\")\n",
        "plt.ylabel(\"Prevalence\")\n",
        "plt.tight_layout()\n",
        "plt.savefig(f\"{OUTPUT_DIR}/prevalence_by_race.png\")\n",
        "plt.close()"
      ],
      "metadata": {
        "colab": {
          "base_uri": "https://localhost:8080/",
          "height": 122
        },
        "id": "3WgrfMYu2pYz",
        "outputId": "a75a9bdd-880d-45e3-c39c-b682cae13dbe"
      },
      "execution_count": null,
      "outputs": [
        {
          "output_type": "stream",
          "name": "stderr",
          "text": [
            "<ipython-input-6-13bb0b0ff35e>:39: FutureWarning: The default of observed=False is deprecated and will be changed to True in a future version of pandas. Pass observed=False to retain current behavior or observed=True to adopt the future default and silence this warning.\n",
            "  chex_synth_out.groupby(\"age_group\")[LABELS].mean().plot(kind=\"bar\")\n"
          ]
        },
        {
          "output_type": "display_data",
          "data": {
            "text/plain": [
              "<Figure size 800x500 with 0 Axes>"
            ]
          },
          "metadata": {}
        },
        {
          "output_type": "display_data",
          "data": {
            "text/plain": [
              "<Figure size 800x500 with 0 Axes>"
            ]
          },
          "metadata": {}
        },
        {
          "output_type": "display_data",
          "data": {
            "text/plain": [
              "<Figure size 1000x500 with 0 Axes>"
            ]
          },
          "metadata": {}
        }
      ]
    },
    {
      "cell_type": "markdown",
      "source": [
        "Definig the dataset class and the transform to be applied on the x-ray images"
      ],
      "metadata": {
        "id": "nfLa52LQTvzz"
      }
    },
    {
      "cell_type": "code",
      "source": [
        "IMAGENET_MEAN = [0.485, 0.456, 0.406]\n",
        "IMAGENET_STD = [0.229, 0.224, 0.225]\n",
        "\n",
        "# transform for dataset processing\n",
        "def get_transforms(train=True, img_size=224):\n",
        "    if train:\n",
        "        return transforms.Compose([\n",
        "            transforms.RandomHorizontalFlip(),\n",
        "            transforms.RandomRotation(10),\n",
        "            transforms.RandomResizedCrop(img_size, scale=(0.8, 1.0)),\n",
        "            transforms.ToTensor(),\n",
        "            transforms.Normalize(mean=IMAGENET_MEAN, std=IMAGENET_STD),\n",
        "        ])\n",
        "    else:\n",
        "        return transforms.Compose([\n",
        "            transforms.Resize((img_size, img_size)),\n",
        "            transforms.ToTensor(),\n",
        "            transforms.Normalize(mean=IMAGENET_MEAN, std=IMAGENET_STD),\n",
        "        ])\n",
        "\n",
        "\n",
        "class CXRDataset(Dataset):\n",
        "    def __init__(self, csv_path, img_root, labels=[\"No Finding\", \"Fracture\", \"Pneumothorax\"],\n",
        "                 img_size=224, train=True, uncertainty_strategy=\"zero\"):\n",
        "        \"\"\"\n",
        "        uncertainty_strategy: \"zero\" (convert 0.5 -> 0), \"one\" (convert 0.5 -> 1), \"ignore\" (mask label)\n",
        "        \"\"\"\n",
        "        self.data = pd.read_csv(csv_path)\n",
        "        self.labels = labels\n",
        "        self.img_root = img_root\n",
        "        self.transforms = get_transforms(train, img_size)\n",
        "        self.uncertainty_strategy = uncertainty_strategy\n",
        "\n",
        "    def __len__(self):\n",
        "        return len(self.data)\n",
        "\n",
        "    def __getitem__(self, idx):\n",
        "        row = self.data.iloc[idx]\n",
        "        img_path = os.path.join(self.img_root, row[\"path\"])\n",
        "        image = Image.open(img_path).convert(\"RGB\")\n",
        "        image = self.transforms(image)\n",
        "\n",
        "        label = torch.tensor(row[self.labels].values.astype(np.float32), dtype=torch.float32)\n",
        "\n",
        "        if self.uncertainty_strategy == \"zero\":\n",
        "            label[label == 0.5] = 0\n",
        "        elif self.uncertainty_strategy == \"one\":\n",
        "            label[label == 0.5] = 1\n",
        "        elif self.uncertainty_strategy == \"ignore\":\n",
        "            # Optionally, add a mask for missing labels if needed\n",
        "            pass\n",
        "        # applying an encoding to incorporate all three groups\n",
        "        race = 0 if row['race'] == \"WHITE\" else 1\n",
        "        sex = 0 if row['sex'] == \"M\" else 1\n",
        "        age_group = int(row['age'] >= 60)\n",
        "        group_id = race * 4 + sex * 2 + age_group\n",
        "\n",
        "        return image, label, torch.tensor(group_id, dtype=torch.long)"
      ],
      "metadata": {
        "id": "bXq3vWom7i43"
      },
      "execution_count": null,
      "outputs": []
    },
    {
      "cell_type": "code",
      "source": [
        "# using subset the images were generated on\n",
        "train_csv = \"synthetic_chexpert_subset.csv\"\n",
        "img_root = \"mimic_images\"\n",
        "\n",
        "# training dataset/loader\n",
        "train_dataset = CXRDataset(csv_path=train_csv, img_root=img_root, train=True)\n",
        "train_loader = DataLoader(train_dataset, batch_size=32, shuffle=True, num_workers=4)\n",
        "\n",
        "# validation dataset/loader\n",
        "val_dataset = CXRDataset(csv_path=train_csv, img_root=img_root, train=False)\n",
        "val_loader = DataLoader(val_dataset, batch_size=32, shuffle=False, num_workers=4)"
      ],
      "metadata": {
        "id": "DnyiHHGcT6pJ",
        "colab": {
          "base_uri": "https://localhost:8080/"
        },
        "outputId": "fe4d7f54-c622-4c34-bad7-4a54f192980d"
      },
      "execution_count": null,
      "outputs": [
        {
          "output_type": "stream",
          "name": "stderr",
          "text": [
            "/usr/local/lib/python3.11/dist-packages/torch/utils/data/dataloader.py:624: UserWarning: This DataLoader will create 4 worker processes in total. Our suggested max number of worker in current system is 2, which is smaller than what this DataLoader is going to create. Please be aware that excessive worker creation might get DataLoader running slow or even freeze, lower the worker number to avoid potential slowness/freeze if necessary.\n",
            "  warnings.warn(\n",
            "/usr/local/lib/python3.11/dist-packages/torch/utils/data/dataloader.py:624: UserWarning: This DataLoader will create 4 worker processes in total. Our suggested max number of worker in current system is 2, which is smaller than what this DataLoader is going to create. Please be aware that excessive worker creation might get DataLoader running slow or even freeze, lower the worker number to avoid potential slowness/freeze if necessary.\n",
            "  warnings.warn(\n"
          ]
        }
      ]
    },
    {
      "cell_type": "markdown",
      "source": [
        "Section 2: Model\n",
        "1. Define the model\n",
        "2. The model is an augmented version of DenseNet-121\n",
        "3. Load the DenseNet-121 pretrained on ImageNet Data\n",
        "4. Replace the final classifier layer with a fully connected layer"
      ],
      "metadata": {
        "id": "vE5VOqOqHyU0"
      }
    },
    {
      "cell_type": "code",
      "source": [
        "class DenseNet121Classifier(nn.Module):\n",
        "  \"\"\"\n",
        "  The base is the DenseNet-121.\n",
        "  The classifier layer is replaced with a fully connected layer.\n",
        "  Also, a dropout layer is added for regularization.\n",
        "  \"\"\"\n",
        "  def __init__(self, dropout_rate=0.2, num_classes=3):\n",
        "      super(DenseNet121Classifier, self).__init__()\n",
        "      self.backbone = models.densenet121(pretrained=True)\n",
        "      num_ftrs = self.backbone.classifier.in_features\n",
        "      self.backbone.classifier = nn.Sequential(\n",
        "          nn.Linear(num_ftrs, 384),\n",
        "          nn.ReLU(),\n",
        "          nn.Dropout(dropout_rate),\n",
        "          nn.Linear(384, num_classes)\n",
        "      )\n",
        "\n",
        "  def forward(self, x):\n",
        "      return self.backbone(x)"
      ],
      "metadata": {
        "id": "516JNSjvICaq"
      },
      "execution_count": null,
      "outputs": []
    },
    {
      "cell_type": "code",
      "source": [
        "def train_model(train_loader, val_loader, epochs=10, lr=1e-4, lambda_fairness=1.0, mu=0.1, device='cuda') -> pd.DataFrame:\n",
        "  \"\"\"\n",
        "  trains a new model for every different fairness criteria\n",
        "  returns a dataframe with the results for each fairness criteria\n",
        "  new model is initialized with random weights for each fairness criteria\n",
        "  \"\"\"\n",
        "  methods = ['ERM', 'BalancedERM', 'MMDMatch', 'MeanMatch', 'GroupDRO', 'ARL', 'FairALM']\n",
        "  if os.path.exists(\"train-results.json\"):\n",
        "    # if a previous attempt failed due to some error\n",
        "    # we pick up where we left off\n",
        "    with open(\"train-results.json\", \"r\") as f:\n",
        "      method_results = json.load(f)\n",
        "      methods_remaining = [method for method in methods if method not in method_results.keys()]\n",
        "      methods = methods_remaining\n",
        "  else:\n",
        "    method_results = {'Fairness Method': [], 'Worst-Group AUROC': [], 'Overall AUROC': []}\n",
        "\n",
        "  for method in methods:\n",
        "    print(f\"Starting method: {method}\")\n",
        "    model = DenseNet121Classifier().to(device)\n",
        "    optimizer = torch.optim.Adam(model.parameters(), lr=lr)\n",
        "    criterion = nn.BCEWithLogitsLoss()\n",
        "    lambda_fair = lambda_fairness\n",
        "    epoch_times = []\n",
        "    for epoch in range(epochs):\n",
        "      start = perf_counter()\n",
        "      print(f\"starting epoch: {epoch + 1} for method: {method}\")\n",
        "      model.train()\n",
        "      total_loss = 0\n",
        "\n",
        "      for i, batch in enumerate(train_loader):\n",
        "        assert len(batch) == 3, \"no group in batch\"\n",
        "        x = batch[0].to(device)\n",
        "        y = batch[1].float().to(device)\n",
        "        group = batch[2].to(device)\n",
        "\n",
        "        optimizer.zero_grad()\n",
        "        logits = model(x).squeeze(1)\n",
        "\n",
        "        base_loss = criterion(logits, y)\n",
        "        loss = base_loss\n",
        "\n",
        "        # --- Apply Fairness Techniques ---\n",
        "        if method in ['MMDMatch', 'MeanMatch']:\n",
        "          fairness_penalty = compute_fairness_penalty(logits, y, group, method)\n",
        "          loss = base_loss + lambda_fairness * fairness_penalty\n",
        "\n",
        "        elif method == 'GroupDRO':\n",
        "          group_losses = compute_loss_per_group(logits, y, group)\n",
        "          loss = group_losses.max()\n",
        "\n",
        "        elif method == 'ARL':\n",
        "          sample_weights = adversarial_reweight(logits)\n",
        "          loss = (sample_weights * F.binary_cross_entropy_with_logits(logits, y, reduction='none')).mean()\n",
        "\n",
        "        elif method == 'FairALM':\n",
        "          fairness_penalty = compute_fairalm_penalty(logits, y, group)\n",
        "          loss = base_loss + lambda_fair * fairness_penalty + mu * (fairness_penalty ** 2)\n",
        "          lambda_fair = lambda_fair + mu * fairness_penalty.item()\n",
        "\n",
        "        loss.backward()\n",
        "        optimizer.step()\n",
        "\n",
        "        total_loss += loss.item()\n",
        "      epoch_times.append(perf_counter() - start)\n",
        "    auc, worst_group_auc = evaluate_model(model, val_loader, device)\n",
        "    method_results.get('Fairness Method').append(method)\n",
        "    method_results.get('Worst-Group AUROC').append(worst_group_auc)\n",
        "    method_results.get('Overall AUROC').append(auc)\n",
        "    with open(\"train-results.json\", \"w\") as f:\n",
        "      # saving for every method in case training gets interrupted\n",
        "      # either from a training timeout or a runtime error\n",
        "      json.dump(method_results, f)\n",
        "    print(f\"Average epoch time: {sum(epoch_times) / epochs} for method: {method}\")\n",
        "\n",
        "\n",
        "  return method_results\n",
        "\n",
        "def adversarial_reweight(logits):\n",
        "  return torch.ones_like(logits)\n",
        "\n",
        "def compute_fairness_penalty(logits, y, groups, method):\n",
        "  \"\"\"\n",
        "  Compute fairness penalty based on method.\n",
        "  Inputs:\n",
        "      logits: Tensor (batch_size,)\n",
        "      y: Tensor (batch_size,)\n",
        "      groups: Tensor (batch_size,)\n",
        "      method_name: str (\"MeanMatch\", \"MMDMatch\")\n",
        "  Returns:\n",
        "      fairness_penalty: scalar tensor\n",
        "  \"\"\"\n",
        "\n",
        "  if method == 'MeanMatch':\n",
        "      # MeanMatch: match average predicted probability across groups\n",
        "      unique_groups = torch.unique(groups)\n",
        "      group_means = []\n",
        "\n",
        "      for g in unique_groups:\n",
        "          mask = (groups == g)\n",
        "          if mask.sum() > 0:\n",
        "              group_mean = torch.sigmoid(logits[mask]).mean()\n",
        "              group_means.append(group_mean)\n",
        "\n",
        "      penalty = torch.var(torch.stack(group_means))  # Variance between group means\n",
        "      return penalty\n",
        "\n",
        "  elif method == 'MMDMatch':\n",
        "      # MMDMatch: Maximum Mean Discrepancy between groups\n",
        "      unique_groups = torch.unique(groups)\n",
        "      group_preds = []\n",
        "\n",
        "      for g in unique_groups:\n",
        "          mask = (groups == g)\n",
        "          if mask.sum() > 0:\n",
        "              group_pred = torch.sigmoid(logits[mask])\n",
        "              group_preds.append(group_pred)\n",
        "\n",
        "      if len(group_preds) < 2:\n",
        "          return torch.tensor(0.0, device=logits.device)\n",
        "\n",
        "      # Compute MMD between each pair\n",
        "      penalty = 0\n",
        "      for i in range(len(group_preds)):\n",
        "          for j in range(i + 1, len(group_preds)):\n",
        "              penalty += maximum_mean_discrepancy(group_preds[i], group_preds[j])\n",
        "\n",
        "      return penalty\n",
        "\n",
        "  else:\n",
        "      raise ValueError(f\"Unsupported fairness method: {method}\")\n",
        "\n",
        "\n",
        "def compute_loss_per_group(logits, y, group):\n",
        "  unique_groups = group.unique()\n",
        "  group_losses = []\n",
        "  for g in unique_groups:\n",
        "      mask = (group == g)\n",
        "      if mask.sum() > 0:\n",
        "          group_loss = F.binary_cross_entropy_with_logits(logits[mask], y[mask], reduction='mean')\n",
        "          group_losses.append(group_loss)\n",
        "  return torch.stack(group_losses)\n",
        "\n",
        "def maximum_mean_discrepancy(x, y):\n",
        "  x = x.view(-1, 1)\n",
        "  y = y.view(-1, 1)\n",
        "  xx = torch.cdist(x, x, p=2)\n",
        "  yy = torch.cdist(y, y, p=2)\n",
        "  xy = torch.cdist(x, y, p=2)\n",
        "  XX = torch.exp(-0.5 * xx ** 2)\n",
        "  YY = torch.exp(-0.5 * yy ** 2)\n",
        "  XY = torch.exp(-0.5 * xy ** 2)\n",
        "  return XX.mean() + YY.mean() - 2 * XY.mean()\n",
        "\n",
        "def compute_fairalm_penalty(logits, labels, groups, threshold=0.5):\n",
        "  probs = torch.sigmoid(logits)\n",
        "  preds = (probs > threshold).float()\n",
        "\n",
        "  unique_groups = torch.unique(groups)\n",
        "  tpr_list = []\n",
        "  fpr_list = []\n",
        "\n",
        "  for g in unique_groups:\n",
        "      mask = (groups == g)\n",
        "      if mask.sum() == 0:\n",
        "          continue\n",
        "      group_labels = labels[mask]\n",
        "      group_preds = preds[mask]\n",
        "\n",
        "      TP = (group_preds * group_labels).sum()\n",
        "      FP = (group_preds * (1 - group_labels)).sum()\n",
        "      FN = ((1 - group_preds) * group_labels).sum()\n",
        "      TN = ((1 - group_preds) * (1 - group_labels)).sum()\n",
        "\n",
        "      tpr = TP / (TP + FN + 1e-6)\n",
        "      fpr = FP / (FP + TN + 1e-6)\n",
        "\n",
        "      tpr_list.append(tpr)\n",
        "      fpr_list.append(fpr)\n",
        "\n",
        "  tpr_violation = torch.var(torch.stack(tpr_list))\n",
        "  fpr_violation = torch.var(torch.stack(fpr_list))\n",
        "\n",
        "  return tpr_violation + fpr_violation\n",
        "\n",
        "\n",
        "def evaluate_model(model, val_loader, device='cuda'):\n",
        "    model.eval()\n",
        "    preds, labels, groups = [], [], []\n",
        "\n",
        "    with torch.no_grad():\n",
        "        for batch in val_loader:\n",
        "            x = batch[0].to(device)\n",
        "            y = batch[1].cpu().numpy()\n",
        "            group = batch[2].cpu().numpy()\n",
        "            logits = model(x).squeeze(1)\n",
        "            probas = torch.sigmoid(logits).cpu().numpy()\n",
        "\n",
        "            preds.extend(probas)\n",
        "            labels.extend(y)\n",
        "            group = [int(g) if not isinstance(g, (int, float)) else g for g in group]\n",
        "            groups.extend(group)\n",
        "\n",
        "    overall_auc = roc_auc_score(labels, preds)\n",
        "\n",
        "    df = pd.DataFrame({'label': labels, 'pred': preds, 'group': groups})\n",
        "    all_groups = df[\"group\"].unique()\n",
        "    print(all_groups)\n",
        "    group_aurocs = []\n",
        "    for g in all_groups:\n",
        "        group_df = df[df['group'] == g]\n",
        "        auc = roc_auc_score(group_df['label'].to_numpy()[0], group_df['pred'].to_numpy()[0])\n",
        "        if auc == 0 or np.isnan(auc):\n",
        "          continue\n",
        "        group_aurocs.append(auc)\n",
        "\n",
        "    worst_group_auc = min(group_aurocs)\n",
        "    return overall_auc, worst_group_auc\n",
        "\n",
        "\n",
        "def display_results(results_df):\n",
        "    print(\"\\nFairness Method Comparison:\")\n",
        "    print(results_df)\n",
        "\n",
        "    # Plot\n",
        "    plt.figure(figsize=(12, 6))\n",
        "    bar_width = 0.35\n",
        "    x = range(len(results_df))\n",
        "\n",
        "    plt.bar([i - bar_width/2 for i in x], results_df['Overall AUROC'], width=bar_width, label='Overall AUROC')\n",
        "    plt.bar([i + bar_width/2 for i in x], results_df['Worst-Group AUROC'], width=bar_width, label='Worst-Group AUROC')\n",
        "\n",
        "    plt.ylabel('AUROC')\n",
        "    plt.xlabel('Fairness Method')\n",
        "    plt.title('Overall vs Worst-Group AUROC by Fairness Method')\n",
        "    plt.xticks(ticks=x, labels=results_df['Fairness Method'], rotation=45)\n",
        "    plt.legend()\n",
        "    plt.grid(axis='y')\n",
        "    plt.tight_layout()\n",
        "    plt.savefig(\"results_real.png\")\n",
        "    plt.show()\n"
      ],
      "metadata": {
        "id": "9yOxK4fjOLBW"
      },
      "execution_count": null,
      "outputs": []
    },
    {
      "cell_type": "code",
      "source": [
        "import warnings\n",
        "warnings.filterwarnings(\"ignore\")\n",
        "training_results_df = train_model(train_loader=train_loader, val_loader=val_loader)"
      ],
      "metadata": {
        "colab": {
          "base_uri": "https://localhost:8080/"
        },
        "id": "1q-ETa2I4_3o",
        "outputId": "51816b8b-661b-4b5f-9017-f1e3409d6e73"
      },
      "execution_count": null,
      "outputs": [
        {
          "metadata": {
            "tags": null
          },
          "name": "stdout",
          "output_type": "stream",
          "text": [
            "Starting method: ERM\n"
          ]
        },
        {
          "metadata": {
            "tags": null
          },
          "name": "stderr",
          "output_type": "stream",
          "text": [
            "Downloading: \"https://download.pytorch.org/models/densenet121-a639ec97.pth\" to /root/.cache/torch/hub/checkpoints/densenet121-a639ec97.pth\n",
            "100%|██████████| 30.8M/30.8M [00:00<00:00, 72.0MB/s]\n"
          ]
        },
        {
          "output_type": "stream",
          "name": "stdout",
          "text": [
            "starting epoch: 1 for method: ERM\n",
            "starting epoch: 2 for method: ERM\n",
            "starting epoch: 3 for method: ERM\n",
            "starting epoch: 4 for method: ERM\n",
            "starting epoch: 5 for method: ERM\n",
            "starting epoch: 6 for method: ERM\n",
            "starting epoch: 7 for method: ERM\n",
            "starting epoch: 8 for method: ERM\n",
            "starting epoch: 9 for method: ERM\n",
            "starting epoch: 10 for method: ERM\n",
            "[0 3 1 5 6 4 2 7]\n",
            "Average epoch time: 257.1488373676999 for method: ERM\n",
            "Starting method: BalancedERM\n",
            "starting epoch: 1 for method: BalancedERM\n",
            "starting epoch: 2 for method: BalancedERM\n",
            "starting epoch: 3 for method: BalancedERM\n",
            "starting epoch: 4 for method: BalancedERM\n",
            "starting epoch: 5 for method: BalancedERM\n",
            "starting epoch: 6 for method: BalancedERM\n",
            "starting epoch: 7 for method: BalancedERM\n",
            "starting epoch: 8 for method: BalancedERM\n",
            "starting epoch: 9 for method: BalancedERM\n",
            "starting epoch: 10 for method: BalancedERM\n",
            "[0 3 1 5 6 4 2 7]\n",
            "Average epoch time: 256.9502639842 for method: BalancedERM\n",
            "Starting method: MMDMatch\n",
            "starting epoch: 1 for method: MMDMatch\n",
            "starting epoch: 2 for method: MMDMatch\n",
            "starting epoch: 3 for method: MMDMatch\n",
            "starting epoch: 4 for method: MMDMatch\n",
            "starting epoch: 5 for method: MMDMatch\n",
            "starting epoch: 6 for method: MMDMatch\n",
            "starting epoch: 7 for method: MMDMatch\n",
            "starting epoch: 8 for method: MMDMatch\n",
            "starting epoch: 9 for method: MMDMatch\n",
            "starting epoch: 10 for method: MMDMatch\n",
            "[0 3 1 5 6 4 2 7]\n",
            "Average epoch time: 296.72505563960004 for method: MMDMatch\n",
            "Starting method: MeanMatch\n",
            "starting epoch: 1 for method: MeanMatch\n",
            "starting epoch: 2 for method: MeanMatch\n",
            "starting epoch: 3 for method: MeanMatch\n",
            "starting epoch: 4 for method: MeanMatch\n",
            "starting epoch: 5 for method: MeanMatch\n",
            "starting epoch: 6 for method: MeanMatch\n",
            "starting epoch: 7 for method: MeanMatch\n",
            "starting epoch: 8 for method: MeanMatch\n",
            "starting epoch: 9 for method: MeanMatch\n",
            "starting epoch: 10 for method: MeanMatch\n",
            "[0 3 1 5 6 4 2 7]\n",
            "Average epoch time: 263.98324770319977 for method: MeanMatch\n",
            "Starting method: GroupDRO\n",
            "starting epoch: 1 for method: GroupDRO\n",
            "starting epoch: 2 for method: GroupDRO\n",
            "starting epoch: 3 for method: GroupDRO\n",
            "starting epoch: 4 for method: GroupDRO\n",
            "starting epoch: 5 for method: GroupDRO\n",
            "starting epoch: 6 for method: GroupDRO\n",
            "starting epoch: 7 for method: GroupDRO\n",
            "starting epoch: 8 for method: GroupDRO\n",
            "starting epoch: 9 for method: GroupDRO\n",
            "starting epoch: 10 for method: GroupDRO\n",
            "[0 3 1 5 6 4 2 7]\n",
            "Average epoch time: 265.0931163849003 for method: GroupDRO\n",
            "Starting method: ARL\n",
            "starting epoch: 1 for method: ARL\n",
            "starting epoch: 2 for method: ARL\n",
            "starting epoch: 3 for method: ARL\n",
            "starting epoch: 4 for method: ARL\n",
            "starting epoch: 5 for method: ARL\n",
            "starting epoch: 6 for method: ARL\n",
            "starting epoch: 7 for method: ARL\n",
            "starting epoch: 8 for method: ARL\n",
            "starting epoch: 9 for method: ARL\n",
            "starting epoch: 10 for method: ARL\n",
            "[0 3 1 5 6 4 2 7]\n",
            "Average epoch time: 256.7516963676997 for method: ARL\n",
            "Starting method: FairALM\n",
            "starting epoch: 1 for method: FairALM\n",
            "starting epoch: 2 for method: FairALM\n",
            "starting epoch: 3 for method: FairALM\n",
            "starting epoch: 4 for method: FairALM\n",
            "starting epoch: 5 for method: FairALM\n",
            "starting epoch: 6 for method: FairALM\n",
            "starting epoch: 7 for method: FairALM\n",
            "starting epoch: 8 for method: FairALM\n",
            "starting epoch: 9 for method: FairALM\n",
            "starting epoch: 10 for method: FairALM\n",
            "[0 3 1 5 6 4 2 7]\n",
            "Average epoch time: 263.79106549640017 for method: FairALM\n"
          ]
        }
      ]
    },
    {
      "cell_type": "code",
      "source": [
        "display_df = pd.DataFrame(training_results_df)\n",
        "display_results(display_df)"
      ],
      "metadata": {
        "id": "B77O_z9v5Pvu",
        "colab": {
          "base_uri": "https://localhost:8080/",
          "height": 638
        },
        "outputId": "0c34667d-cdff-46e0-81e3-fff6bbbf0d92"
      },
      "execution_count": null,
      "outputs": [
        {
          "output_type": "stream",
          "name": "stdout",
          "text": [
            "\n",
            "Fairness Method Comparison:\n",
            "  Fairness Method  Worst-Group AUROC  Overall AUROC\n",
            "0             ERM                0.5       0.516841\n",
            "1     BalancedERM                0.5       0.519121\n",
            "2        MMDMatch                0.5       0.524343\n",
            "3       MeanMatch                0.5       0.518907\n",
            "4        GroupDRO                0.5       0.513338\n",
            "5             ARL                0.5       0.509874\n",
            "6         FairALM                0.5       0.518453\n"
          ]
        },
        {
          "output_type": "display_data",
          "data": {
            "text/plain": [
              "<Figure size 1200x600 with 1 Axes>"
            ],
            "image/png": "[encoded data removed]"
          },
          "metadata": {}
        }
      ]
    },
    {
      "cell_type": "code",
      "source": [
        "# using html to generate a table of results\n",
        "display_df_html = display_df.to_html(index=False)\n",
        "with open(\"results_real.html\", \"w\") as f:\n",
        "  f.write(display_df_html)"
      ],
      "metadata": {
        "id": "7HBCIGE6wqGX"
      },
      "execution_count": null,
      "outputs": []
    },
    {
      "cell_type": "code",
      "source": [],
      "metadata": {
        "id": "F8z1jjlG9z1U"
      },
      "execution_count": null,
      "outputs": []
    }
  ]
}